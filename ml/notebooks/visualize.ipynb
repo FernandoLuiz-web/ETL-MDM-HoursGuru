{
 "cells": [
  {
   "cell_type": "markdown",
   "id": "2190cdaf",
   "metadata": {},
   "source": [
    "## <center>Visualização de dados para <ins><b>Hours Guru</b></ins><center>\n",
    "\n",
    "<p>A idéia é treinar um modelo para identificação do possível numero de horas que serão trabalhados para cada projeto.</p>\n",
    "\n",
    "> <p>Para isso ele vai considerar o numero de horas contratadas para já saber o que é esperado daquele projeto</p>\n",
    "> <p>Ele vai usar os apontamentos de horas para ter o valor real do que é esperado para o projeto</p>\n",
    "> <p>Com o agrupamento mensal a idéia é mensurar o que provávelmente vai ser gasto em horas no próximo mês</p>\n",
    "> <p>Ao Final de cada mês, quando tiver os valores concretos definidos, comparamos com o previsto para definir a acuracia e treinar o modelo novamente.<p>"
   ]
  },
  {
   "cell_type": "markdown",
   "id": "04b0bc32",
   "metadata": {},
   "source": [
    "## Fazendo os imports necessários\n",
    "\n",
    "**pandas** para manipulação de dados\n",
    "\n",
    "**numpy** para operações numéricas\n",
    "\n",
    "**matplotlib** para visualização gráfica dos dados\n",
    "\n",
    "**seaborn** embelezamento dos gráficos\n",
    "\n",
    "**Sklearn** para o aprendizado do modelo"
   ]
  },
  {
   "cell_type": "code",
   "execution_count": 1,
   "id": "d7d8857c",
   "metadata": {},
   "outputs": [],
   "source": [
    "import pandas as pd\n",
    "import matplotlib.pyplot as plt\n",
    "from sklearn.model_selection import train_test_split\n",
    "from sklearn.preprocessing import LabelEncoder\n",
    "from sklearn.ensemble import RandomForestRegressor\n",
    "from sklearn.linear_model import LinearRegression\n",
    "from sklearn.metrics import mean_squared_error, r2_score"
   ]
  },
  {
   "cell_type": "markdown",
   "id": "06da288c",
   "metadata": {},
   "source": [
    "<h1>Leitura do dataset</h1>\n",
    "\n",
    "<p>Schema</p>\n",
    "\n",
    "| **Campo**       | **Tipo de Dado**      |\n",
    "|-----------------|-----------------------|\n",
    "| user            | object                |\n",
    "| project         | object                |\n",
    "| period          | object                |\n",
    "| worked_hours    | float64               |\n",
    "| contracted_hours| float64               |\n",
    "| remaining_hours | float64               |"
   ]
  }
 ],
 "metadata": {
  "kernelspec": {
   "display_name": ".venv",
   "language": "python",
   "name": "python3"
  },
  "language_info": {
   "codemirror_mode": {
    "name": "ipython",
    "version": 3
   },
   "file_extension": ".py",
   "mimetype": "text/x-python",
   "name": "python",
   "nbconvert_exporter": "python",
   "pygments_lexer": "ipython3",
   "version": "3.13.0"
  }
 },
 "nbformat": 4,
 "nbformat_minor": 5
}
